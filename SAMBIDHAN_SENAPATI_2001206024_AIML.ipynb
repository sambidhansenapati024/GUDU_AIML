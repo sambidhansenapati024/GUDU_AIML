{
  "nbformat": 4,
  "nbformat_minor": 0,
  "metadata": {
    "colab": {
      "provenance": [],
      "authorship_tag": "ABX9TyOdWeJzVzsbGA1i3ckEKL6J",
      "include_colab_link": true
    },
    "kernelspec": {
      "name": "python3",
      "display_name": "Python 3"
    },
    "language_info": {
      "name": "python"
    }
  },
  "cells": [
    {
      "cell_type": "markdown",
      "metadata": {
        "id": "view-in-github",
        "colab_type": "text"
      },
      "source": [
        "<a href=\"https://colab.research.google.com/github/sambidhansenapati024/GUDU_AIML/blob/main/SAMBIDHAN_SENAPATI_2001206024_AIML.ipynb\" target=\"_parent\"><img src=\"https://colab.research.google.com/assets/colab-badge.svg\" alt=\"Open In Colab\"/></a>"
      ]
    },
    {
      "cell_type": "code",
      "execution_count": 9,
      "metadata": {
        "id": "k8Ye5pau5Hb7",
        "colab": {
          "base_uri": "https://localhost:8080/"
        },
        "outputId": "5d60e249-45d7-45d8-d51c-b16bb7d6c929"
      },
      "outputs": [
        {
          "output_type": "stream",
          "name": "stdout",
          "text": [
            "Enter number: 169\n",
            "Reverse of the number: 961\n"
          ]
        }
      ],
      "source": [
        "n=int(input(\"Enter number: \"))\n",
        "rev=0\n",
        "while(n>0):\n",
        "    dig=n%10\n",
        "    rev=rev*10+dig\n",
        "    n=n//10\n",
        "print(\"Reverse of the number:\",rev)    "
      ]
    },
    {
      "cell_type": "code",
      "source": [
        "a=11\n",
        "b=20\n",
        "print(\"a | b = \", a | b)"
      ],
      "metadata": {
        "colab": {
          "base_uri": "https://localhost:8080/"
        },
        "id": "DuolYlWLHgfg",
        "outputId": "9411e283-f18b-4b36-c52b-59355fffd9b2"
      },
      "execution_count": 10,
      "outputs": [
        {
          "output_type": "stream",
          "name": "stdout",
          "text": [
            "a | b =  31\n"
          ]
        }
      ]
    },
    {
      "cell_type": "code",
      "source": [
        "def add(x,y):\n",
        "  while(y != 0): \n",
        "   carry= x & y\n",
        "   x=x^y\n",
        "   y=carry << 1\n",
        "  return x\n",
        "print(add(11,20))"
      ],
      "metadata": {
        "colab": {
          "base_uri": "https://localhost:8080/"
        },
        "id": "O8StLq0nMTxk",
        "outputId": "81ee673f-1f40-40b8-b831-62d97cbe4e75"
      },
      "execution_count": 21,
      "outputs": [
        {
          "output_type": "stream",
          "name": "stdout",
          "text": [
            "31\n"
          ]
        }
      ]
    }
  ]
}